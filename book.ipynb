{
 "cells": [
  {
   "cell_type": "markdown",
   "metadata": {},
   "source": [
    "## DV2599 Assignment 2\n",
    "Group 8\n",
    "\n",
    "\n",
    "***\n",
    "Viktor Fransson\n",
    "\n",
    "vifr22@student.bth.se\n",
    "\n",
    "***\n",
    "\n",
    "Tobias Gustafsson\n",
    "\n",
    "togu22@student.bth.se\n",
    "***"
   ]
  },
  {
   "cell_type": "markdown",
   "metadata": {},
   "source": [
    "#### Initialize"
   ]
  },
  {
   "cell_type": "code",
   "execution_count": 26,
   "metadata": {},
   "outputs": [],
   "source": [
    "# Import packages\n",
    "import pandas as pd\n",
    "from sklearn.model_selection import KFold\n",
    "from sklearn.model_selection import cross_val_score\n",
    "from sklearn.ensemble import RandomForestClassifier\n",
    "from sklearn.linear_model import LogisticRegression\n",
    "from sklearn.naive_bayes import GaussianNB\n",
    "from sklearn.metrics import accuracy_score, f1_score\n",
    "\n",
    "# Load dataset\n",
    "df = pd.read_csv('spambase/spambase.data', delimiter=',', header=None)\n",
    "\n",
    "# Add headers to columns to increase clarity and comprehensibility\n",
    "name_file = open('spambase/spambase.names', 'r')\n",
    "skip = 0\n",
    "headers = []\n",
    "for line in name_file:\n",
    "    skip += 1\n",
    "    if skip > 33:   # Skip to the features\n",
    "        header = \"\"\n",
    "        for char in line:\n",
    "            if char == \":\":\n",
    "                break\n",
    "            header += char\n",
    "        headers.append(header)\n",
    "\n",
    "headers.append(\"spam\")  # Spam column is last, 1 = spam, 0 = not spam\n",
    "df.columns = headers\n",
    "\n",
    "# Split data into x and y\n",
    "y = df['spam']\n",
    "x = df.drop(columns='spam')\n"
   ]
  },
  {
   "cell_type": "markdown",
   "metadata": {},
   "source": [
    "#### 1. Stratified ten-fold cross-validation"
   ]
  },
  {
   "cell_type": "code",
   "execution_count": null,
   "metadata": {},
   "outputs": [],
   "source": [
    "# Initialize ten-fold cross-validation\n",
    "kf = KFold(n_splits=10)\n",
    "\n",
    "# Initialize models\n",
    "rf = RandomForestClassifier()\n",
    "lr = LogisticRegression()\n",
    "nb = GaussianNB()\n"
   ]
  },
  {
   "cell_type": "markdown",
   "metadata": {},
   "source": [
    "#### 2. Results"
   ]
  },
  {
   "cell_type": "code",
   "execution_count": null,
   "metadata": {},
   "outputs": [],
   "source": []
  },
  {
   "cell_type": "markdown",
   "metadata": {},
   "source": [
    "#### 3. Friedman test"
   ]
  },
  {
   "cell_type": "code",
   "execution_count": null,
   "metadata": {},
   "outputs": [],
   "source": []
  },
  {
   "cell_type": "markdown",
   "metadata": {},
   "source": [
    "#### 4. Significant average differences"
   ]
  },
  {
   "cell_type": "code",
   "execution_count": null,
   "metadata": {},
   "outputs": [],
   "source": []
  },
  {
   "cell_type": "markdown",
   "metadata": {},
   "source": [
    "##### Nemenyi test"
   ]
  },
  {
   "cell_type": "code",
   "execution_count": null,
   "metadata": {},
   "outputs": [],
   "source": []
  }
 ],
 "metadata": {
  "kernelspec": {
   "display_name": "Python 3",
   "language": "python",
   "name": "python3"
  },
  "language_info": {
   "codemirror_mode": {
    "name": "ipython",
    "version": 3
   },
   "file_extension": ".py",
   "mimetype": "text/x-python",
   "name": "python",
   "nbconvert_exporter": "python",
   "pygments_lexer": "ipython3",
   "version": "3.9.13"
  }
 },
 "nbformat": 4,
 "nbformat_minor": 2
}
